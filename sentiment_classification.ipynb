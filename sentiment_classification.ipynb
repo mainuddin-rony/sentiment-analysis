{
 "cells": [
  {
   "cell_type": "code",
   "execution_count": 78,
   "metadata": {},
   "outputs": [],
   "source": [
    "import pandas as pd\n",
    "import matplotlib.pyplot as plt\n",
    "import nltk\n",
    "import re"
   ]
  },
  {
   "cell_type": "markdown",
   "metadata": {},
   "source": [
    "# Data Load"
   ]
  },
  {
   "cell_type": "code",
   "execution_count": 38,
   "metadata": {},
   "outputs": [],
   "source": [
    "tweet_data = pd.read_csv('twitter_csci581.csv', index_col=False, encoding='utf-8')\n",
    "tweet_data = shuffle(tweet_data)"
   ]
  },
  {
   "cell_type": "code",
   "execution_count": 12,
   "metadata": {},
   "outputs": [
    {
     "data": {
      "text/plain": [
       "0"
      ]
     },
     "execution_count": 12,
     "metadata": {},
     "output_type": "execute_result"
    }
   ],
   "source": [
    "len(tweet_data[tweet_data['polarity'] == 3])"
   ]
  },
  {
   "cell_type": "code",
   "execution_count": 8,
   "metadata": {},
   "outputs": [
    {
     "data": {
      "text/plain": [
       "array([[<matplotlib.axes._subplots.AxesSubplot object at 0x7f14d6448390>]],\n",
       "      dtype=object)"
      ]
     },
     "execution_count": 8,
     "metadata": {},
     "output_type": "execute_result"
    }
   ],
   "source": [
    "pd.DataFrame.hist(tweet_data, column='polarity')"
   ]
  },
  {
   "cell_type": "code",
   "execution_count": 10,
   "metadata": {
    "scrolled": true
   },
   "outputs": [
    {
     "data": {
      "image/png": "[encoded data removed]",
      "text/plain": [
       "<matplotlib.figure.Figure at 0x7f15082d13c8>"
      ]
     },
     "metadata": {},
     "output_type": "display_data"
    }
   ],
   "source": [
    "plt.show()"
   ]
  },
  {
   "cell_type": "markdown",
   "metadata": {},
   "source": [
    "# Data Preprcoessing "
   ]
  },
  {
   "cell_type": "code",
   "execution_count": 3,
   "metadata": {},
   "outputs": [],
   "source": [
    "def preprocessTweets(tweet):\n",
    "    # Convert www.* or https?://* to URL\n",
    "    tweet = re.sub('((www\\.[^\\s]+)|(https?://[^\\s]+))', 'URL', tweet)\n",
    "\n",
    "    # Convert @username to __HANDLE\n",
    "    tweet = re.sub('@[^\\s]+', '__HANDLE', tweet)\n",
    "\n",
    "    # Replace #word with word\n",
    "    tweet = re.sub(r'#([^\\s]+)', r'\\1', tweet)\n",
    "    \n",
    "\n",
    "    # trim\n",
    "    tweet = tweet.strip('\\'\"')\n",
    "\n",
    "    # Repeating words like happyyyyyyyy\n",
    "    rpt_regex = re.compile(r\"(.)\\1{1,}\", re.IGNORECASE)\n",
    "    tweet = rpt_regex.sub(r\"\\1\\1\", tweet)\n",
    "\n",
    "    # Emoticons\n",
    "    emoticons = \\\n",
    "        [\n",
    "            ('__positive__', [':-)', ':)', '(:', '(-:', \\\n",
    "                              ':-D', ':D', 'X-D', 'XD', 'xD', \\\n",
    "                              '<3', ':\\*', ';-)', ';)', ';-D', ';D', '(;', '(-;', ]), \\\n",
    "            ('__negative__', [':-(', ':(', '(:', '(-:', ':,(', \\\n",
    "                              ':\\'(', ':\"(', ':((', ]), \\\n",
    "            ]\n",
    "\n",
    "    def replace_parenth(arr):\n",
    "        return [text.replace(')', '[)}\\]]').replace('(', '[({\\[]') for text in arr]\n",
    "\n",
    "    def regex_join(arr):\n",
    "        return '(' + '|'.join(arr) + ')'\n",
    "\n",
    "    emoticons_regex = [(repl, re.compile(regex_join(replace_parenth(regx)))) \\\n",
    "                       for (repl, regx) in emoticons]\n",
    "\n",
    "    for (repl, regx) in emoticons_regex:\n",
    "        tweet = re.sub(regx, ' ' + repl + ' ', tweet)\n",
    "\n",
    "        # Convert to lower case\n",
    "    tweet = tweet.lower()\n",
    "\n",
    "    return tweet"
   ]
  },
  {
   "cell_type": "code",
   "execution_count": 5,
   "metadata": {},
   "outputs": [],
   "source": [
    "# def stem(tweet):\n",
    "#     stemmer = nltk.stem.PorterStemmer()\n",
    "#     tweet_stem = ''\n",
    "#     words = [word if (word[0:2] == '__') else word.lower() \\\n",
    "#              for word in tweet.split() \\\n",
    "#              if len(word) >= 3]\n",
    "#     words = [stemmer.stem(w) for w in words]\n",
    "#     tweet_stem = ' '.join(words)\n",
    "#     return tweet_stem"
   ]
  },
  {
   "cell_type": "code",
   "execution_count": 39,
   "metadata": {},
   "outputs": [],
   "source": [
    "# took 0.2 million sample data\n",
    "sample_data = tweet_data.sample(n=200000)\n",
    "sample_data = sample_data.reset_index(drop=True)"
   ]
  },
  {
   "cell_type": "code",
   "execution_count": 40,
   "metadata": {},
   "outputs": [],
   "source": [
    "tweets = []\n",
    "for idx, val in sample_data.iterrows():\n",
    "    text = val['text']\n",
    "    modified_text = preprocessTweets(text)\n",
    "    val['modified_tweet'] = modified_text\n",
    "    val['wtht_eps'] = text.replace(\"'\", '')\n",
    "    tweets.append(val)"
   ]
  },
  {
   "cell_type": "code",
   "execution_count": 41,
   "metadata": {},
   "outputs": [],
   "source": [
    "sample_tweet_data = pd.DataFrame(tweets)"
   ]
  },
  {
   "cell_type": "code",
   "execution_count": 42,
   "metadata": {},
   "outputs": [
    {
     "data": {
      "text/plain": [
       "200000"
      ]
     },
     "execution_count": 42,
     "metadata": {},
     "output_type": "execute_result"
    }
   ],
   "source": [
    "len(sample_tweet_data)"
   ]
  },
  {
   "cell_type": "code",
   "execution_count": 112,
   "metadata": {},
   "outputs": [
    {
     "data": {
      "text/plain": [
       "array([[<matplotlib.axes._subplots.AxesSubplot object at 0x7f5c3f2e4e48>]],\n",
       "      dtype=object)"
      ]
     },
     "execution_count": 112,
     "metadata": {},
     "output_type": "execute_result"
    },
    {
     "data": {
      "image/png": "[encoded data removed]",
      "text/plain": [
       "<matplotlib.figure.Figure at 0x7f60b1341358>"
      ]
     },
     "metadata": {},
     "output_type": "display_data"
    }
   ],
   "source": [
    "pd.DataFrame.hist(sample_tweet_data, column='polarity')"
   ]
  },
  {
   "cell_type": "markdown",
   "metadata": {},
   "source": [
    "# Feature Extraction"
   ]
  },
  {
   "cell_type": "code",
   "execution_count": 43,
   "metadata": {},
   "outputs": [],
   "source": [
    "import re\n",
    "import pandas as pd\n",
    "from sklearn.utils import shuffle\n",
    "import snowballstemmer\n",
    "from sklearn.feature_extraction.text import TfidfVectorizer\n",
    "import nltk\n",
    "import numpy as np\n",
    "import pickle\n",
    "from itertools import product\n",
    "from nltk import pos_tag\n",
    "from sklearn.externals import joblib\n",
    "from sklearn.ensemble import RandomForestClassifier"
   ]
  },
  {
   "cell_type": "code",
   "execution_count": 44,
   "metadata": {},
   "outputs": [],
   "source": [
    "english_stemmer = snowballstemmer.stemmer('english')\n",
    "file_name = 'tweets'"
   ]
  },
  {
   "cell_type": "code",
   "execution_count": 45,
   "metadata": {},
   "outputs": [],
   "source": [
    "class StemmedTfidfVectorizer(TfidfVectorizer):\n",
    "    def build_analyzer(self):\n",
    "        analyzer = super(TfidfVectorizer, self).build_analyzer()\n",
    "        return lambda doc: english_stemmer.stemWords(analyzer(doc))"
   ]
  },
  {
   "cell_type": "code",
   "execution_count": 46,
   "metadata": {},
   "outputs": [],
   "source": [
    "def getNgram(data, n, min_df):\n",
    "    tfidf_vect = StemmedTfidfVectorizer(min_df=min_df, stop_words='english', analyzer='word', ngram_range=(n,n))\n",
    "#     TfidfVectorizer(min_df=1, ngram_range=(n,n), stop_words='english')\n",
    "    sentence_term_tfidf = tfidf_vect.fit_transform(data.modified_tweet)\n",
    "    sentence_term_df = pd.DataFrame(sentence_term_tfidf.todense(), columns=np.sort(list(tfidf_vect.vocabulary_.keys())))\n",
    "#     pd.DataFrame(sentence_term_df.columns).to_csv(\"vocabulary_\"+file_name+\".txt\", encoding='utf-8', index=False)    \n",
    "    sentence_term_df.columns = sentence_term_df.columns.map(lambda x: 'W_'+str(n)+'_'+x)\n",
    "#     pickle.dump(tfidf_vect.idf_, open( \"models/idf_\"+file_name, \"wb\" )) #storing the vocabulary    \n",
    "    return sentence_term_df"
   ]
  },
  {
   "cell_type": "code",
   "execution_count": 48,
   "metadata": {},
   "outputs": [],
   "source": [
    "def getFE(data=None):\n",
    "    patterns = [r'never|no|nothing|nowhere|noone|none|not|havent|hasnt|hadnt|cant|couldnt|shouldnt|wont|wouldnt|dont|doesnt|didnt|isnt|arent|aint']\n",
    "    data_fe = pd.DataFrame(columns=range(len(patterns)))\n",
    "    data_fe.columns = data_fe.columns.map(lambda x: 'FE'+'_'+str(x) )\n",
    "    for i, pattern in enumerate(patterns):\n",
    "        data_fe['FE_'+str(i)] = data.wtht_eps.str.contains(pattern)\n",
    "    return data_fe"
   ]
  },
  {
   "cell_type": "code",
   "execution_count": 49,
   "metadata": {},
   "outputs": [],
   "source": [
    "data_concat = pd.concat([sample_tweet_data, getNgram(sample_tweet_data, 1, 300)], axis = 1)"
   ]
  },
  {
   "cell_type": "code",
   "execution_count": 50,
   "metadata": {},
   "outputs": [],
   "source": [
    "data_concat = pd.concat([data_concat, getNgram(sample_tweet_data, 2, 200)], axis = 1)"
   ]
  },
  {
   "cell_type": "code",
   "execution_count": 51,
   "metadata": {},
   "outputs": [],
   "source": [
    "data_concat = pd.concat([data_concat, getNgram(sample_tweet_data, 3, 50)], axis = 1)"
   ]
  },
  {
   "cell_type": "code",
   "execution_count": 52,
   "metadata": {},
   "outputs": [],
   "source": [
    "data_concat = pd.concat([data_concat, getFE(sample_tweet_data)], axis = 1)"
   ]
  },
  {
   "cell_type": "code",
   "execution_count": 53,
   "metadata": {},
   "outputs": [
    {
     "data": {
      "text/plain": [
       "200000"
      ]
     },
     "execution_count": 53,
     "metadata": {},
     "output_type": "execute_result"
    }
   ],
   "source": [
    "len(data_concat)"
   ]
  },
  {
   "cell_type": "code",
   "execution_count": 113,
   "metadata": {},
   "outputs": [
    {
     "data": {
      "text/plain": [
       "(200000, 853)"
      ]
     },
     "execution_count": 113,
     "metadata": {},
     "output_type": "execute_result"
    }
   ],
   "source": [
    "data_concat.shape"
   ]
  },
  {
   "cell_type": "markdown",
   "metadata": {},
   "source": [
    "# Feature Importance"
   ]
  },
  {
   "cell_type": "code",
   "execution_count": 99,
   "metadata": {},
   "outputs": [],
   "source": [
    "from sklearn.ensemble import RandomForestClassifier"
   ]
  },
  {
   "cell_type": "code",
   "execution_count": 103,
   "metadata": {},
   "outputs": [],
   "source": [
    "data_regex = data_concat.filter(regex='W_1|W_2|W_3|FE_')\n",
    "clf = RandomForestClassifier(n_estimators=10)#GaussianNB()#MultinomialNB()#MultinomialNB()#SVC()#LinearSVC()#\n",
    "clf.fit(data_concat[data_regex.columns], data_concat.polarity)\n",
    "importances = clf.feature_importances_\n",
    "std = np.std([tree.feature_importances_ for tree in clf.estimators_], axis=0)\n",
    "indices = np.argsort(importances)[::-1]"
   ]
  },
  {
   "cell_type": "code",
   "execution_count": 104,
   "metadata": {},
   "outputs": [
    {
     "name": "stdout",
     "output_type": "stream",
     "text": [
      "Feature ranking:\n",
      "1. feature W_1___handl (0.044654)\n",
      "2. feature FE_0 (0.029245)\n",
      "3. feature W_1_miss (0.018935)\n",
      "4. feature W_1_sad (0.016124)\n",
      "5. feature W_1_thank (0.013189)\n",
      "6. feature W_1_love (0.012718)\n",
      "7. feature W_1_good (0.009353)\n",
      "8. feature W_1_work (0.008637)\n",
      "9. feature W_1_wish (0.008380)\n",
      "10. feature W_1_url (0.008378)\n"
     ]
    }
   ],
   "source": [
    "print(\"Feature ranking:\")\n",
    "\n",
    "for f in range(10):\n",
    "    print(\"%d. feature %s (%f)\" % (f + 1, data_regex.columns[indices[f]], importances[indices[f]]))"
   ]
  },
  {
   "cell_type": "code",
   "execution_count": 105,
   "metadata": {},
   "outputs": [
    {
     "name": "stderr",
     "output_type": "stream",
     "text": [
      "/home/mrony/.local/lib/python3.5/site-packages/ipykernel_launcher.py:11: MatplotlibDeprecationWarning: The set_axis_bgcolor function was deprecated in version 2.0. Use set_facecolor instead.\n",
      "  # This is added back by InteractiveShellApp.init_path()\n"
     ]
    },
    {
     "data": {
      "image/png": "[encoded data removed]",
      "text/plain": [
       "<matplotlib.figure.Figure at 0x7f60bf90d7f0>"
      ]
     },
     "metadata": {},
     "output_type": "display_data"
    }
   ],
   "source": [
    "%matplotlib inline\n",
    "import matplotlib.pyplot as plt\n",
    "import pandas as pd\n",
    "import seaborn as sns\n",
    "sns.set_style(\"whitegrid\", {'axes.grid' : False})\n",
    "sns.set(font_scale=2.5, color_codes=True)\n",
    "\n",
    "fig, ax = plt.subplots(figsize=(12,7))\n",
    "plt.xticks(rotation=90)\n",
    "ax.grid(b=False)\n",
    "ax.set_axis_bgcolor('white')\n",
    "\n",
    "features = data_regex.columns\n",
    "\n",
    "best_k = 30\n",
    "\n",
    "plt.bar(range(best_k), importances[indices[0:best_k]], color=\"#3498db\", yerr=std[indices[0:best_k]], align=\"center\")\n",
    "\n",
    "xticks = [tick.replace('_1', '') for tick in features[indices[0:best_k]]]\n",
    "ax.set_ylim(0, 0.06)\n",
    "plt.xticks(range(best_k), xticks)\n",
    "plt.ylabel('Importance', weight = 'bold')\n",
    "plt.xlabel('Features', weight = 'bold')\n",
    "plt.xlim([-1, best_k])\n",
    "plt.errorbar(range(best_k), importances[indices[0:best_k]], color=\"black\", yerr=std[indices[0:best_k]], elinewidth=3)\n",
    "plt.tight_layout()\n",
    "plt.savefig('feature_importance.eps', format='eps', dpi=1200)"
   ]
  },
  {
   "cell_type": "markdown",
   "metadata": {},
   "source": [
    "# Train Test Split"
   ]
  },
  {
   "cell_type": "code",
   "execution_count": 54,
   "metadata": {},
   "outputs": [],
   "source": [
    "# 33% of 0.2 million 66000\n",
    "train = data_concat[0:134000]\n",
    "test = data_concat[134000:]"
   ]
  },
  {
   "cell_type": "markdown",
   "metadata": {},
   "source": [
    "# Naive Bayes Implementation"
   ]
  },
  {
   "cell_type": "code",
   "execution_count": 69,
   "metadata": {},
   "outputs": [],
   "source": [
    "import numpy as np\n",
    "import math\n",
    "\n",
    "class NaiveBayesClassifier():\n",
    "    def fit(self, X, y):\n",
    "        self.X, self.y = X, y\n",
    "        self.classes = np.unique(y)\n",
    "        self.parameters = []\n",
    "        for i, c in enumerate(self.classes):\n",
    "            X_where_c = X[np.where(y == c)]\n",
    "            self.parameters.append([])\n",
    "            for col in X_where_c.T:\n",
    "                parameters = {\"mean\": col.mean(), \"var\": col.var()}\n",
    "                self.parameters[i].append(parameters)\n",
    "\n",
    "    def measure_likelihood(self, mean, var, x):\n",
    "        \"\"\" Gaussian likelihood\"\"\"\n",
    "        eps = 1e-4 # Added in denominator to prevent division by zero\n",
    "        coeff = 1.0 / math.sqrt(2.0 * math.pi * var + eps)\n",
    "        exponent = math.exp(-(math.pow(x - mean, 2) / (2 * var + eps)))\n",
    "        return coeff * exponent\n",
    "\n",
    "    def meausre_prior_probability(self, c):\n",
    "        X_where_c = self.X[np.where(self.y == c)]\n",
    "        frequency = len(X_where_c) / len(self.X)\n",
    "        return frequency\n",
    "\n",
    "    def apply_classifier(self, sample):\n",
    "        posteriors = []\n",
    "        for i, c in enumerate(self.classes):\n",
    "            posterior = self.meausre_prior_probability(c)\n",
    "            for feature_value, params in zip(sample, self.parameters[i]):\n",
    "                likelihood = self.measure_likelihood(params[\"mean\"], params[\"var\"], feature_value)\n",
    "                posterior *= likelihood\n",
    "            posteriors.append(posterior)\n",
    "        # Return the class with the largest posterior probability\n",
    "        return self.classes[np.argmax(posteriors)]\n",
    "\n",
    "    def predict(self, X):\n",
    "        \"\"\" Predict the class labels of the samples in X \"\"\"\n",
    "        y_pred = [self.apply_classifier(sample) for sample in X]\n",
    "        return y_pred"
   ]
  },
  {
   "cell_type": "markdown",
   "metadata": {},
   "source": [
    "# Validation"
   ]
  },
  {
   "cell_type": "code",
   "execution_count": 67,
   "metadata": {},
   "outputs": [],
   "source": [
    "import sklearn"
   ]
  },
  {
   "cell_type": "code",
   "execution_count": 108,
   "metadata": {},
   "outputs": [],
   "source": [
    "data_regex = data_concat.filter(regex='W_1|W_2|W_3|FE_')\n",
    "clf = NaiveBayesClassifier()\n",
    "clf.fit(train[data_regex.columns].values, train.polarity)\n",
    "y_pred = clf.predict(test[data_regex.columns].values)"
   ]
  },
  {
   "cell_type": "code",
   "execution_count": 109,
   "metadata": {},
   "outputs": [
    {
     "name": "stdout",
     "output_type": "stream",
     "text": [
      "             precision    recall  f1-score   support\n",
      "\n",
      "          1       0.74      0.74      0.74     32963\n",
      "          5       0.74      0.73      0.74     33037\n",
      "\n",
      "avg / total       0.74      0.74      0.74     66000\n",
      "\n"
     ]
    }
   ],
   "source": [
    "print(sklearn.metrics.classification_report(test.polarity, y_pred))"
   ]
  },
  {
   "cell_type": "code",
   "execution_count": 110,
   "metadata": {},
   "outputs": [
    {
     "name": "stdout",
     "output_type": "stream",
     "text": [
      "0.7381212121212121\n"
     ]
    }
   ],
   "source": [
    "print(sklearn.metrics.accuracy_score(test.polarity, y_pred))"
   ]
  },
  {
   "cell_type": "markdown",
   "metadata": {},
   "source": [
    "# Apply Predictor on Given Tweets"
   ]
  },
  {
   "cell_type": "code",
   "execution_count": 87,
   "metadata": {},
   "outputs": [],
   "source": [
    "test_data = pd.read_csv('evaluation_csci581.csv', encoding='utf-8', index_col=False)"
   ]
  },
  {
   "cell_type": "code",
   "execution_count": 88,
   "metadata": {},
   "outputs": [],
   "source": [
    "tweets = []\n",
    "for idx, val in test_data.iterrows():\n",
    "    text = val['text']\n",
    "    modified_text = preprocessTweets(text)\n",
    "    val['modified_tweet'] = modified_text\n",
    "    val['wtht_eps'] = text.replace(\"'\", '')\n",
    "    tweets.append(val)"
   ]
  },
  {
   "cell_type": "code",
   "execution_count": 89,
   "metadata": {},
   "outputs": [],
   "source": [
    "test_data = pd.DataFrame(tweets)"
   ]
  },
  {
   "cell_type": "code",
   "execution_count": 92,
   "metadata": {},
   "outputs": [],
   "source": [
    "data_concat = pd.concat([sample_tweet_data, getNgram(test_data, 1, 300)], axis = 1)"
   ]
  },
  {
   "cell_type": "code",
   "execution_count": 94,
   "metadata": {},
   "outputs": [],
   "source": [
    "data_concat = pd.concat([data_concat, getNgram(test_data, 2, 200)], axis = 1)"
   ]
  },
  {
   "cell_type": "code",
   "execution_count": 95,
   "metadata": {},
   "outputs": [],
   "source": [
    "data_concat = pd.concat([data_concat, getNgram(test_data, 3, 50)], axis = 1)"
   ]
  },
  {
   "cell_type": "code",
   "execution_count": 96,
   "metadata": {},
   "outputs": [],
   "source": [
    "data_concat = pd.concat([data_concat, getFE(test_data)], axis = 1)"
   ]
  },
  {
   "cell_type": "code",
   "execution_count": 97,
   "metadata": {},
   "outputs": [],
   "source": [
    "data_regex = data_concat.filter(regex='W_1|W_2|W_3|FE_')"
   ]
  },
  {
   "cell_type": "code",
   "execution_count": 98,
   "metadata": {},
   "outputs": [],
   "source": [
    "y_pred = clf.predict(data_concat[data_regex.columns].values)"
   ]
  },
  {
   "cell_type": "code",
   "execution_count": 117,
   "metadata": {},
   "outputs": [],
   "source": [
    "pd.DataFrame(y_pred).to_csv(\"output.csv\", index=False)"
   ]
  },
  {
   "cell_type": "markdown",
   "metadata": {},
   "source": [
    "# Exploratory Analysis"
   ]
  },
  {
   "cell_type": "code",
   "execution_count": 114,
   "metadata": {},
   "outputs": [
    {
     "name": "stdout",
     "output_type": "stream",
     "text": [
      "             precision    recall  f1-score   support\n",
      "\n",
      "          1       0.76      0.73      0.74     32963\n",
      "          5       0.74      0.77      0.75     33037\n",
      "\n",
      "avg / total       0.75      0.75      0.75     66000\n",
      "\n",
      "0.7484090909090909\n"
     ]
    }
   ],
   "source": [
    "from sklearn.svm import LinearSVC\n",
    "data_regex = data_concat.filter(regex='W_1|W_2|W_3|FE_')\n",
    "clf = LinearSVC(C=0.1)\n",
    "clf.fit(train[data_regex.columns].values, train.polarity)\n",
    "y_pred = clf.predict(test[data_regex.columns].values)\n",
    "\n",
    "print(sklearn.metrics.classification_report(test.polarity, y_pred))\n",
    "print(sklearn.metrics.accuracy_score(test.polarity, y_pred))"
   ]
  },
  {
   "cell_type": "code",
   "execution_count": 116,
   "metadata": {},
   "outputs": [
    {
     "name": "stdout",
     "output_type": "stream",
     "text": [
      "             precision    recall  f1-score   support\n",
      "\n",
      "          1       0.68      0.67      0.68     32963\n",
      "          5       0.68      0.69      0.68     33037\n",
      "\n",
      "avg / total       0.68      0.68      0.68     66000\n",
      "\n",
      "0.6817878787878788\n"
     ]
    }
   ],
   "source": [
    "from sklearn.neighbors import KNeighborsClassifier\n",
    "data_regex = data_concat.filter(regex='W_1|W_2|W_3|FE_')\n",
    "clf = KNeighborsClassifier(n_neighbors=5)\n",
    "clf.fit(train[data_regex.columns].values, train.polarity)\n",
    "y_pred = clf.predict(test[data_regex.columns].values)\n",
    "\n",
    "print(sklearn.metrics.classification_report(test.polarity, y_pred))\n",
    "print(sklearn.metrics.accuracy_score(test.polarity, y_pred))"
   ]
  }
 ],
 "metadata": {
  "kernelspec": {
   "display_name": "Python 3",
   "language": "python",
   "name": "python3"
  },
  "language_info": {
   "codemirror_mode": {
    "name": "ipython",
    "version": 3
   },
   "file_extension": ".py",
   "mimetype": "text/x-python",
   "name": "python",
   "nbconvert_exporter": "python",
   "pygments_lexer": "ipython3",
   "version": "3.5.2"
  }
 },
 "nbformat": 4,
 "nbformat_minor": 2
}
